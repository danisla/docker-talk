{
 "cells": [
  {
   "cell_type": "markdown",
   "metadata": {
    "slideshow": {
     "slide_type": "slide"
    }
   },
   "source": [
    "# Getting Started with Docker\n",
    "---\n",
    "\n",
    "**SGV Linux Users Group Meetup**\n",
    "\n",
    "<img src=\"images/docker-logo.png\" width=\"250\" align=\"right\" />\n",
    "\n",
    "Dan Isla  \n",
    "Data Scientist at JPL  \n",
    "June 11, 2015  "
   ]
  },
  {
   "cell_type": "markdown",
   "metadata": {
    "slideshow": {
     "slide_type": "subslide"
    }
   },
   "source": [
    "# Running This Presentation\n",
    "\n",
    "Start [shellinabox](https://code.google.com/p/shellinabox/)\n",
    "\n",
    "```\n",
    "$ brew install shellinabox\n",
    "$ sudo shellinaboxd -s/:LOGIN -t --no-beep\n",
    "```\n",
    "\n",
    "Create the reveal.js html\n",
    "\n",
    "```\n",
    "$ ipython nbconvert docker-talk.ipynb --to slides\n",
    "```\n",
    "\n",
    "Start the webserver with proxy to `shellinaboxd` at `/shell`\n",
    "\n",
    "```\n",
    "$ python tape.py -p 8000 -P /shell=http://localhost:4200\n",
    "```\n",
    "\n",
    "---\n",
    "\n",
    "#### shellinabox\n",
    "---\n",
    "<p>\n",
    "<iframe class=\"shellinabox\" src=\"http://localhost:8000/shell/\" frameborder=\"1\" width=\"100%\" height=\"100%\"></iframe>\n",
    "</p>"
   ]
  },
  {
   "cell_type": "markdown",
   "metadata": {
    "slideshow": {
     "slide_type": "slide"
    }
   },
   "source": [
    "# About Me\n",
    "---\n",
    "<img src=\"images/dan-photo.png\" align=\"center\" width=\"100%\" />"
   ]
  },
  {
   "cell_type": "markdown",
   "metadata": {
    "slideshow": {
     "slide_type": "slide"
    }
   },
   "source": [
    "# What is Docker?"
   ]
  },
  {
   "cell_type": "markdown",
   "metadata": {
    "slideshow": {
     "slide_type": "slide"
    }
   },
   "source": [
    "## Trends\n",
    "\n",
    "<img src=\"images/docker-vagrant-trends.png\" width=\"640\" />"
   ]
  },
  {
   "cell_type": "markdown",
   "metadata": {
    "slideshow": {
     "slide_type": "slide"
    }
   },
   "source": [
    "<p align=\"center\">\n",
    "  <img src=\"images/docker-meme-morpheus.jpg\" height=\"600\" />\n",
    "</p>"
   ]
  },
  {
   "cell_type": "markdown",
   "metadata": {
    "slideshow": {
     "slide_type": "slide"
    }
   },
   "source": [
    "## Containers vs VMs\n",
    "---\n",
    "\n",
    "<img src=\"images/container-vs-vm.jpg\" width=\"600\" />"
   ]
  },
  {
   "cell_type": "markdown",
   "metadata": {
    "slideshow": {
     "slide_type": "slide"
    }
   },
   "source": [
    "<img src=\"images/shipping-containers.jpg\" width=\"100%\" />"
   ]
  },
  {
   "cell_type": "markdown",
   "metadata": {
    "slideshow": {
     "slide_type": "slide"
    }
   },
   "source": [
    "## Docker Architecture\n",
    "---\n",
    "<img src=\"images/docker-architecture.svg\" width=\"500\" />\n",
    "[https://docs.docker.com/introduction/understanding-docker/](https://docs.docker.com/introduction/understanding-docker/)"
   ]
  },
  {
   "cell_type": "markdown",
   "metadata": {
    "slideshow": {
     "slide_type": "slide"
    }
   },
   "source": [
    "# Docker makes Linux containers easy\n",
    "---\n",
    "- Written in Go\n",
    "- Manages the creation of kernel-level isolation between processes\n",
    "- Manages the network interfacing between the Host OS\n",
    "- Manages the storage interface between the Host OS\n",
    "- Uses a copy-on-write filesystem to create shared layers in images, similar to Git\n",
    "- Images can be built and shipped to any VM running the Docker daemon."
   ]
  },
  {
   "cell_type": "markdown",
   "metadata": {
    "slideshow": {
     "slide_type": "slide"
    }
   },
   "source": [
    "# Installing Docker\n",
    "---\n",
    "\n",
    "Official Install guides: https://docs.docker.com/installation/#installation\n",
    "\n",
    "Basic requirements:\n",
    "\n",
    "- 64-bit Linux\n",
    "- Kernel 3.10"
   ]
  },
  {
   "cell_type": "markdown",
   "metadata": {
    "slideshow": {
     "slide_type": "subslide"
    }
   },
   "source": [
    "### Linux\n",
    "---\n",
    "Latest stable version available in your favorite package manager.\n",
    "\n",
    "OR the quick and dirty method:\n",
    "\n",
    "```\n",
    "$ wget -qO- https://get.docker.com/ | sh\n",
    "```\n"
   ]
  },
  {
   "cell_type": "markdown",
   "metadata": {
    "slideshow": {
     "slide_type": "subslide"
    }
   },
   "source": [
    "### OSX\n",
    "---\n",
    "OSX is built on Unix, not Linux and doesn't have the required kernel features.\n",
    "\n",
    "Some options:\n",
    "- boot2docker (my preferred)\n",
    "- Kitematic (graphical interface)\n",
    "- Vagrant (great for multi-node)"
   ]
  },
  {
   "cell_type": "markdown",
   "metadata": {
    "slideshow": {
     "slide_type": "subslide"
    }
   },
   "source": [
    "### Docker host under Linux vs OSX\n",
    "---\n",
    "<span>\n",
    "    <img src=\"images/linux_docker_host.png\" width=\"320\" align=\"left\" />\n",
    "    <img src=\"images/mac_docker_host.png\" width=\"320\" align=\"right\" />\n",
    "</span>"
   ]
  },
  {
   "cell_type": "markdown",
   "metadata": {
    "slideshow": {
     "slide_type": "slide"
    }
   },
   "source": [
    "# Container Hello World\n",
    "---\n",
    "\n",
    "#### Pulling your first container\n",
    "\n",
    "```\n",
    "$ docker pull ubuntu\n",
    "```\n",
    "\n",
    "#### Running your first command\n",
    "\n",
    "```\n",
    "$ docker run ubuntu echo hello world\n",
    "```"
   ]
  },
  {
   "cell_type": "markdown",
   "metadata": {
    "slideshow": {
     "slide_type": "subslide"
    }
   },
   "source": [
    "## Container Environment\n",
    "---\n",
    "<p>\n",
    "<iframe class=\"shellinabox\" src=\"http://localhost:8000/shell/\" frameborder=\"1\" width=\"100%\" height=\"400px\"></iframe>\n",
    "</p>"
   ]
  },
  {
   "cell_type": "markdown",
   "metadata": {
    "slideshow": {
     "slide_type": "slide"
    }
   },
   "source": [
    "# Simple Web Service Example\n",
    "---"
   ]
  },
  {
   "cell_type": "markdown",
   "metadata": {
    "slideshow": {
     "slide_type": "fragment"
    }
   },
   "source": [
    "## [Twelve-Factor](12factor.net) All the Things!\n",
    "\n",
    "**Processes**  \n",
    "Execute the app as one or more stateless processes\n",
    "\n",
    "**Config**  \n",
    "Store config in the environment\n",
    "\n",
    "**Dependencies**  \n",
    "Explicitly declare and isolate dependencies\n",
    "\n",
    "**Build, release, run**  \n",
    "Strictly separate build and run stages\n",
    "\n",
    "**Disposability**  \n",
    "Maximize robustness with fast startup and graceful shutdown\n",
    "\n",
    "**Dev/prod parity**  \n",
    "Keep development, staging, and production as similar as possible"
   ]
  },
  {
   "cell_type": "markdown",
   "metadata": {
    "slideshow": {
     "slide_type": "subslide"
    }
   },
   "source": [
    "## Dockerfile\n",
    "---\n",
    "```\n",
    "FROM python:2.7\n",
    "\n",
    "WORKDIR /opt/app\n",
    "\n",
    "EXPOSE 8000\n",
    "\n",
    "ENTRYPOINT python -m SimpleHTTPServer\n",
    "```\n",
    "\n",
    "### Build the image\n",
    "\n",
    "```\n",
    "$ docker build -t python-webserver .\n",
    "```\n",
    "\n",
    "### Run the container in the foreground\n",
    "```\n",
    "$ docker run -it -P python-webserver\n",
    "```"
   ]
  },
  {
   "cell_type": "markdown",
   "metadata": {
    "slideshow": {
     "slide_type": "subslide"
    }
   },
   "source": [
    "## Demo\n",
    "---\n",
    "<p>\n",
    "<iframe class=\"shellinabox\" src=\"http://localhost:8000/shell/\" frameborder=\"1\" width=\"100%\" height=\"400px\"></iframe>\n",
    "</p>"
   ]
  },
  {
   "cell_type": "markdown",
   "metadata": {
    "slideshow": {
     "slide_type": "subslide"
    }
   },
   "source": [
    "### Data Volumes\n",
    "---\n",
    "Bind-mounting data volume to the container\n",
    "\n",
    "```\n",
    "$ docker run -it --rm -p 8001:8000 \\\n",
    "    -v ~/Projects/ipython/docker-talk/examples/python-webserver:/opt/app \\\n",
    "    python-webserver\n",
    "```\n",
    "\n",
    "New args:\n",
    "- `--rm`: remove container after exiting\n",
    "- `-p 8001:8000`: Map docker host port `8001` to _container_ port `8000`\n",
    "- `-v`: Bind mount my local `python-webserver` directory to the `/opt/app` directory inside the _container_."
   ]
  },
  {
   "cell_type": "markdown",
   "metadata": {
    "slideshow": {
     "slide_type": "slide"
    }
   },
   "source": [
    "# Rails app Example\n",
    "---\n",
    "\n",
    "Ruby typically has a ton of dependencies and can be a pain to setup a dev environment and and deploy.\n",
    "\n",
    "Read about the official Rails docker image: [https://registry.hub.docker.com/u/library/rails/](https://registry.hub.docker.com/u/library/rails/)\n",
    "\n",
    "Pull in the `rails:4` and `rails:onbuild` image:\n",
    "\n",
    "```\n",
    "$ docker pull rails:4\n",
    "$ docker pull rails:onbuild\n",
    "```"
   ]
  },
  {
   "cell_type": "markdown",
   "metadata": {
    "slideshow": {
     "slide_type": "subslide"
    }
   },
   "source": [
    "# Build the rails container\n",
    "---\n",
    "\n",
    "The `onbuild` base image makes it very simple to bootstrap the environment with a 1-line Dockerfile.\n",
    "\n",
    "Dockerfile:\n",
    "\n",
    "```\n",
    "FROM rails:onbuild\n",
    "```\n",
    "\n",
    "Per the rails image Docker Hub description:\n",
    "\n",
    "> This image includes multiple `ONBUILD` triggers which should cover most applications. The build will `COPY . /usr/src/app`, `RUN bundle install`, `EXPOSE 3000`, and set the default command to `rails server`.\n",
    "\n",
    "Example Rails app from GitHub: [https://github.com/engineyard/todo](https://github.com/engineyard/todo)"
   ]
  },
  {
   "cell_type": "markdown",
   "metadata": {
    "slideshow": {
     "slide_type": "subslide"
    }
   },
   "source": [
    "### Lets try it\n",
    "---\n",
    "<p>\n",
    "<iframe class=\"shellinabox\" src=\"http://localhost:8000/shell/\" frameborder=\"1\" width=\"100%\" height=\"400px\"></iframe>\n",
    "</p>"
   ]
  },
  {
   "cell_type": "markdown",
   "metadata": {
    "slideshow": {
     "slide_type": "subslide"
    }
   },
   "source": [
    "Clone the repo:\n",
    "\n",
    "```\n",
    "$ git clone https://github.com/engineyard/todo\n",
    "```\n",
    "\n",
    "Make the Dockerfile:\n",
    "\n",
    "```\n",
    "$ echo \"FROM rails:onbuild\" > todo/Dockerfile\n",
    "```\n",
    "\n",
    "Build the image:\n",
    "\n",
    "```\n",
    "$ cd todo\n",
    "$ docker build -t rails-todo .\n",
    "```\n",
    "\n",
    "Run the container:\n",
    "\n",
    "```\n",
    "$ docker run -it --rm -p 3000:3000 -e RAILS_ENV=production rails-todo\n",
    "```\n",
    "\n",
    "Open in browser at: [http://dockerhost:3000](http://dockerhost:3000)\n",
    "\n",
    "Oops! We need to migrate the database, lets bind mount the sqlite3 file and rake migrate\n",
    "\n",
    "```\n",
    "$ touch db/development.sqlite3\n",
    "$ docker run -it --rm -p 3000:3000 \\\n",
    "    -e RAILS_ENV=development \\\n",
    "    -v ~/Projects/ipython/docker-talk/examples/rails-app/todo/db/development.sqlite3:/usr/src/app/db/development.sqlite3:rw \\\n",
    "    rails-todo bin/rake db:migrate\n",
    "```\n",
    "\n",
    "Now run it in the background (detached mode):\n",
    "\n",
    "```\n",
    "$ docker run -d \\\n",
    "    --name rails-todo \\\n",
    "    -p 3000:3000 \\\n",
    "    -e RAILS_ENV=development \\\n",
    "    -v ~/Projects/ipython/docker-talk/examples/rails-app/todo/db/development.sqlite3:/usr/src/app/db/development.sqlite3:rw \\\n",
    "    rails-todo\n",
    "```\n",
    "\n",
    "Tail the output:\n",
    "\n",
    "```\n",
    "$ docker logs -f rails-todo\n",
    "```"
   ]
  },
  {
   "cell_type": "markdown",
   "metadata": {
    "slideshow": {
     "slide_type": "slide"
    }
   },
   "source": [
    "# Go Example\n",
    "---\n",
    "\n",
    "```\n",
    "$ docker build -t go-api .\n",
    "$ docker run -it --rm -p 8080:8080 go-api\n",
    "```\n"
   ]
  },
  {
   "cell_type": "markdown",
   "metadata": {
    "slideshow": {
     "slide_type": "subslide"
    }
   },
   "source": [
    "# Demo\n",
    "---\n",
    "<p>\n",
    "<iframe class=\"shellinabox\" src=\"http://localhost:8000/shell/\" frameborder=\"1\" width=\"100%\" height=\"400px\"></iframe>\n",
    "</p>\n"
   ]
  },
  {
   "cell_type": "markdown",
   "metadata": {
    "slideshow": {
     "slide_type": "slide"
    }
   },
   "source": [
    "# NodeJS Service Example\n",
    "---\n",
    "\n",
    "### Dockerfile:\n",
    "\n",
    "```\n",
    "FROM node:0.10.38-slim\n",
    "\n",
    "ADD package.json /tmp/package.json\n",
    "RUN cd /tmp && npm install\n",
    "RUN mkdir -p /opt/app && cp -a /tmp/node_modules /opt/app/\n",
    "\n",
    "WORKDIR /opt/app\n",
    "\n",
    "EXPOSE 8080\n",
    "\n",
    "ADD server.js package.json /opt/app/\n",
    "\n",
    "ENTRYPOINT node server.js\n",
    "```\n",
    "\n",
    "### Caching\n",
    "On subsequent builds, docker will only execute the `npm install` when `package.json` changes. A hash of the successful command execution is saved so anything prior the last changed line is skipped when building.\n"
   ]
  },
  {
   "cell_type": "markdown",
   "metadata": {
    "slideshow": {
     "slide_type": "subslide"
    }
   },
   "source": [
    "# Demo\n",
    "---\n",
    "<p>\n",
    "<iframe class=\"shellinabox\" src=\"http://localhost:8000/shell/\" frameborder=\"1\" width=\"100%\" height=\"400px\"></iframe>\n",
    "</p>\n"
   ]
  },
  {
   "cell_type": "markdown",
   "metadata": {
    "slideshow": {
     "slide_type": "slide"
    }
   },
   "source": [
    "# Prototyping Example\n",
    "---\n",
    "\n",
    "### Docker is a great tool for trying to technologies\n",
    "- Elasticsearch\n",
    "- Hadoop\n",
    "- Spark"
   ]
  },
  {
   "cell_type": "markdown",
   "metadata": {
    "slideshow": {
     "slide_type": "slide"
    }
   },
   "source": [
    "# Composing Containers\n",
    "---\n",
    "\n",
    "### docker-compose.yml\n",
    "```\n",
    "elasticsearch:\n",
    "  image: deviantony/elk-elasticsearch\n",
    "  ports:\n",
    "    - \"9200:9200\"\n",
    "kibana4:\n",
    "  image: deviantony/elk-kibana\n",
    "  ports:\n",
    "    - \"5601:5601\"\n",
    "  links:\n",
    "    - elasticsearch\n",
    "```\n",
    "\n",
    "Starting:\n",
    "\n",
    "```\n",
    "$ docker-compose up\n",
    "```\n",
    "\n",
    "[https://github.com/deviantony/fig-elk/blob/master/docker-compose.yml](https://github.com/deviantony/fig-elk/blob/master/docker-compose.yml)"
   ]
  },
  {
   "cell_type": "markdown",
   "metadata": {
    "slideshow": {
     "slide_type": "subslide"
    }
   },
   "source": [
    "# Demo\n",
    "---\n",
    "<p>\n",
    "<iframe class=\"shellinabox\" src=\"http://localhost:8000/shell/\" frameborder=\"1\" width=\"100%\" height=\"400px\"></iframe>\n",
    "</p>\n"
   ]
  },
  {
   "cell_type": "markdown",
   "metadata": {
    "slideshow": {
     "slide_type": "slide"
    }
   },
   "source": [
    "# Legacy app containers (coffins)\n",
    "---\n",
    "<img src=\"images/family-coffins.jpg\" width=\"100%\" />\n"
   ]
  },
  {
   "cell_type": "markdown",
   "metadata": {
    "slideshow": {
     "slide_type": "slide"
    }
   },
   "source": [
    "## Example Journey to the Graveyard - Trac\n",
    "---\n",
    "\n",
    "#### Legacy Stack:\n",
    "\n",
    "              ┌───────────────────────────┐\n",
    "              | Institutional LDAP Server | \n",
    "              └────────────┬──────────────┘\n",
    "                           X\n",
    "    ┌──────────────────────┴────────────────────────┐\n",
    "    | Apache with LDAP, SSL and WebDAV and Trac CGI | \n",
    "    ├───────────────────────────────────────────────┤\n",
    "    │                   RHEL 4.3                    │\n",
    "    ├───────────────────────────────────────────────┤\n",
    "    │            Bare metal or 32bit VM             │\n",
    "    └───────────────────────────────────────────────┘\n",
    "\n",
    "#### Goal:\n",
    "\n",
    "                   ┌───────────────────────────┐\n",
    "                   | Institutional LDAP Server | \n",
    "                   └────────────┬──────────────┘\n",
    "                                |\n",
    "    ┌───────────────────────┬───┴─────────────────┬──────┐\n",
    "    | Local Docker Registry | Apache w/SVN WebDAV | Trac | \n",
    "    ├───────────────────────┴─────────────────────┴──────┤\n",
    "    │                         Docker                     │\n",
    "    ├────────────────────────────────────────────────────┤\n",
    "    │                        CentOS 7                    │\n",
    "    ├────────────────────────────────────────────────────┤\n",
    "    │                  GovCloud EC2 64bit VM             │\n",
    "    └────────────────────────────────────────────────────┘\n"
   ]
  },
  {
   "cell_type": "markdown",
   "metadata": {
    "slideshow": {
     "slide_type": "slide"
    }
   },
   "source": [
    "# Security with SELinux\n",
    "---\n",
    "\n",
    "### Process isolation is great but what about storage and networking? SELinux!!\n",
    "\n",
    "Applying container label to filesystem:\n",
    "\n",
    "```\n",
    "/usr/bin/chcon -Rt svirt_sandbox_file_t /data\n",
    "```\n",
    "\n",
    "Now any container can bind mount the host os `/data` directory and safely have read-write access.\n",
    "\n",
    "SELinux networking policies could also be used to prevent compromised containers from being used as springboards into your network."
   ]
  },
  {
   "cell_type": "markdown",
   "metadata": {
    "slideshow": {
     "slide_type": "slide"
    }
   },
   "source": [
    "# Deploying Containers\n",
    "---\n",
    "\n",
    "<img src=\"images/dev-ops-meme.jpg\" width=\"100%\" />\n",
    "\n",
    "\n",
    "TODO:\n",
    "- Show ops-dev meltdown meme\n",
    "- Docker push to hub\n",
    "- Talk about github integration with Docker Hub\n",
    "- Talk about private registry\n",
    "- Show systemd example"
   ]
  },
  {
   "cell_type": "markdown",
   "metadata": {
    "slideshow": {
     "slide_type": "subslide"
    }
   },
   "source": [
    "### Running with `systemd` and a local repository\n",
    "\n",
    "```\n",
    "[Unit]\n",
    "Description=Docker Registry\n",
    "Requires=docker-registry.service\n",
    "After=docker-registry.service\n",
    "\n",
    "[Service]\n",
    "Restart=on-failure\n",
    "TimeoutStartSec=0\n",
    "ExecStartPre=-/usr/bin/docker kill registry\n",
    "ExecStartPre=-/usr/bin/docker rm registry\n",
    "ExecStartPre=/usr/bin/docker pull registry:0.9.1\n",
    "ExecStart=/usr/bin/docker run --rm\\\n",
    "  --name=registry\\\n",
    "  --publish=\"5000:5000\"\\\n",
    "  --env=\"SETTINGS_FLAVOR=s3\"\\\n",
    "  --env=\"AWS_REGION=us-west-2\"\\\n",
    "  --env=\"AWS_ENCRYPT=true\"\\\n",
    "  --env=\"AWS_SECURE=true\"\\\n",
    "  --env=\"AWS_BUCKET=exmaple-com-docker-images\"\\\n",
    "  --env=\"STORAGE_PATH=/registry\"\\\n",
    "  --env=\"GUNICORN_OPTS=[--preload]\"\\\n",
    "  --env=\"GUNICORN_WORKERS=4\"\\\n",
    "  --env=\"SEARCH_BACKEND=sqlalchemy\"\\\n",
    "  registry:0.9.1\n",
    "ExecStop=-/usr/bin/docker stop registry\n",
    "\n",
    "[Install]\n",
    "WantedBy=multi-user.target\n",
    "```"
   ]
  },
  {
   "cell_type": "markdown",
   "metadata": {
    "slideshow": {
     "slide_type": "subslide"
    }
   },
   "source": [
    "### Apache vhost service\n",
    "\n",
    "```\n",
    "[Unit]\n",
    "Description=Apache SSL LDAP SVN\n",
    "Requires=docker-registry.service\n",
    "After=docker-registry.service\n",
    "\n",
    "[Service]\n",
    "Restart=on-failure\n",
    "TimeoutStartSec=0\n",
    "ExecStartPre=-/usr/bin/chcon -Rt svirt_sandbox_file_t /data/httpd\n",
    "ExecStartPre=-/usr/bin/chcon -Rt svirt_sandbox_file_t /data/trac-eol-repo\n",
    "ExecStartPre=-/usr/bin/docker kill apache\n",
    "ExecStartPre=-/usr/bin/docker rm apache\n",
    "ExecStartPre=/usr/bin/docker pull localhost:5000/apache-ssl-ldap-svn:1.0.0-2\n",
    "ExecStart=/usr/bin/docker run --rm\\\n",
    "  --name=apache\\\n",
    "  --net=host\\\n",
    "  --volume=\"/data/httpd/logs:/var/log/httpd:rw\"\\\n",
    "  --volume=\"/data/httpd/ssl/server.key:/etc/httpd/ssl/server.key:ro\"\\\n",
    "  --volume=\"/data/httpd/ssl/server.crt:/etc/httpd/ssl/server.crt:ro\"\\\n",
    "  --volume=\"/data/webapp-repo/deploy/httpd:/etc/httpd/conf.d\"\\\n",
    "  --volume=\"/data/httpd/html:/var/www/html:ro\"\\\n",
    "  localhost:5000/apache-ssl-ldap-svn:1.0.0-2\n",
    "ExecStop=-/usr/bin/docker stop apache\n",
    "ExecReload=/usr/bin/docker exec apache apachectl -k graceful\n",
    "\n",
    "[Install]\n",
    "WantedBy=multi-user.target\n",
    "```"
   ]
  },
  {
   "cell_type": "markdown",
   "metadata": {
    "slideshow": {
     "slide_type": "slide"
    }
   },
   "source": [
    "# Container Orchestration\n",
    "---\n",
    "\n",
    "<img src=\"images/orchestration-nascar-slide.png\" width=\"100%\" />"
   ]
  },
  {
   "cell_type": "markdown",
   "metadata": {
    "slideshow": {
     "slide_type": "slide"
    }
   },
   "source": [
    "# Questions ?\n",
    "\n",
    "* dan.isla@gmail.com  \n",
    "  https://github.com/danisla\n",
    "\n",
    "<img src=\"images/build-ship-run.png\" width=\"100%\" />"
   ]
  },
  {
   "cell_type": "markdown",
   "metadata": {
    "slideshow": {
     "slide_type": "subslide"
    }
   },
   "source": [
    "## Convert Notebook to RST"
   ]
  },
  {
   "cell_type": "code",
   "execution_count": 6,
   "metadata": {
    "collapsed": false,
    "slideshow": {
     "slide_type": "fragment"
    }
   },
   "outputs": [
    {
     "name": "stderr",
     "output_type": "stream",
     "text": [
      "[NbConvertApp] Converting notebook docker-talk.ipynb to rst\n",
      "[NbConvertApp] Writing 13731 bytes to docker-talk.rst\n"
     ]
    }
   ],
   "source": [
    "%%bash\n",
    "ipython nbconvert docker-talk.ipynb --to rst"
   ]
  },
  {
   "cell_type": "markdown",
   "metadata": {
    "slideshow": {
     "slide_type": "subslide"
    }
   },
   "source": [
    "## Convert Notebook and Start Slide Show"
   ]
  },
  {
   "cell_type": "code",
   "execution_count": 42,
   "metadata": {
    "collapsed": false,
    "scrolled": true,
    "slideshow": {
     "slide_type": "fragment"
    }
   },
   "outputs": [
    {
     "name": "stdout",
     "output_type": "stream",
     "text": [
      "Process is terminated.\n"
     ]
    }
   ],
   "source": [
    "%%bash\n",
    "\n",
    "function cleanup {\n",
    "    # Cleanup any old revealjs server\n",
    "    kill `pgrep -f \"python nbconvert\"` 2>/dev/null\n",
    "}\n",
    "trap cleanup EXIT INT\n",
    "\n",
    "# Start revealjs server with explict host and port (Docker friendly)\n",
    "ipython nbconvert \\\n",
    "    --ServePostProcessor.open_in_browser=False \\\n",
    "    --ServePostProcessor.ip=0.0.0.0 \\\n",
    "    --ServePostProcessor.port=8000 \\\n",
    "    docker-talk.ipynb --to slides --post serve"
   ]
  },
  {
   "cell_type": "markdown",
   "metadata": {
    "slideshow": {
     "slide_type": "subslide"
    }
   },
   "source": [
    "## Convert Notebook to Reveal.js slides"
   ]
  },
  {
   "cell_type": "code",
   "execution_count": 7,
   "metadata": {
    "collapsed": false,
    "slideshow": {
     "slide_type": "fragment"
    }
   },
   "outputs": [
    {
     "name": "stderr",
     "output_type": "stream",
     "text": [
      "[NbConvertApp] Converting notebook docker-talk.ipynb to slides\n",
      "[NbConvertApp] Writing 229940 bytes to docker-talk.slides.html\n"
     ]
    }
   ],
   "source": [
    "%%bash\n",
    "ipython nbconvert docker-talk.ipynb --to slides"
   ]
  }
 ],
 "metadata": {
  "celltoolbar": "Slideshow",
  "kernelspec": {
   "display_name": "Python 2",
   "language": "python",
   "name": "python2"
  },
  "language_info": {
   "codemirror_mode": {
    "name": "ipython",
    "version": 2
   },
   "file_extension": ".py",
   "mimetype": "text/x-python",
   "name": "python",
   "nbconvert_exporter": "python",
   "pygments_lexer": "ipython2",
   "version": "2.7.6"
  }
 },
 "nbformat": 4,
 "nbformat_minor": 0
}
